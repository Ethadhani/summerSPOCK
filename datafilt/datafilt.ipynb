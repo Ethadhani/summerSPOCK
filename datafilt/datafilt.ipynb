{
 "cells": [
  {
   "cell_type": "code",
   "execution_count": 140,
   "metadata": {},
   "outputs": [],
   "source": [
    "import numpy as np\n",
    "import matplotlib.pyplot as plt\n",
    "import pandas as pd\n",
    "from sklearn import metrics\n",
    "import xgboost as xgb\n",
    "from xgboost.sklearn import XGBClassifier\n",
    "from xgboost.sklearn import XGBRegressor\n",
    "from hyperopt import hp, fmin, tpe, STATUS_OK, Trials\n",
    "import hyperopt\n",
    "import sys\n",
    "sys.path.append('../spock/')\n",
    "#from simsetup import get_sim\n",
    "#from modelfitting import ROC_curve, stable_unstable_hist, calibration_plot, unstable_error_fraction\n",
    "try:\n",
    "    plt.style.use('paper')\n",
    "except:\n",
    "    pass\n",
    "%matplotlib inline"
   ]
  },
  {
   "cell_type": "code",
   "execution_count": 141,
   "metadata": {},
   "outputs": [],
   "source": [
    "import rebound\n",
    "import numpy as np\n",
    "import pandas as pd\n",
    "import warnings\n",
    "from multiprocessing import Process\n",
    "import sys\n",
    "from collections import OrderedDict\n",
    "from multiprocessing import Pool\n",
    "sys.path.insert(1, '..')\n",
    "#print(path)\n",
    "from SPOCKalt import *\n",
    "sys.path.insert(1, '../SPOCKalt')\n",
    "#Intigration/simsetup.py\n",
    "from SPOCKalt import featureKlassifier\n",
    "from SPOCKalt import simsetup"
   ]
  },
  {
   "cell_type": "code",
   "execution_count": 142,
   "metadata": {},
   "outputs": [],
   "source": [
    "dataset = pd.read_csv('../secondMMRintData/tryfirstorder3br.csv')"
   ]
  },
  {
   "cell_type": "code",
   "execution_count": 143,
   "metadata": {},
   "outputs": [],
   "source": [
    "initial = pd.read_csv('../secondMMRintData/originalCondAllData.csv')"
   ]
  },
  {
   "cell_type": "code",
   "execution_count": 144,
   "metadata": {},
   "outputs": [],
   "source": [
    "test = dataset.drop(dataset[dataset['prelimStable']==True].index)\n",
    "test = test.drop(test[test['Stable']==False].index)"
   ]
  },
  {
   "cell_type": "code",
   "execution_count": 145,
   "metadata": {},
   "outputs": [],
   "source": [
    "plot = dataset\n",
    "plot = plot.drop(plot[plot['instability_time'] <1e8].index)\n"
   ]
  },
  {
   "cell_type": "code",
   "execution_count": 146,
   "metadata": {},
   "outputs": [],
   "source": [
    "# plot = plot.drop(plot[plot['threeBRfillfac']>1].index)\n",
    "# plot =plot.sample(n=7)"
   ]
  },
  {
   "cell_type": "code",
   "execution_count": 147,
   "metadata": {},
   "outputs": [],
   "source": [
    "plot = plot.drop(plot[plot['threeBRfillfac']<18].index)\n",
    "plot = plot.drop(plot[plot['Stable']==False].index)\n",
    "plot = plot.drop(plot[plot['index']==113762].index)\n",
    "#param for 7inomolies"
   ]
  },
  {
   "cell_type": "code",
   "execution_count": 148,
   "metadata": {},
   "outputs": [
    {
     "data": {
      "text/html": [
       "<div>\n",
       "<style scoped>\n",
       "    .dataframe tbody tr th:only-of-type {\n",
       "        vertical-align: middle;\n",
       "    }\n",
       "\n",
       "    .dataframe tbody tr th {\n",
       "        vertical-align: top;\n",
       "    }\n",
       "\n",
       "    .dataframe thead th {\n",
       "        text-align: right;\n",
       "    }\n",
       "</style>\n",
       "<table border=\"1\" class=\"dataframe\">\n",
       "  <thead>\n",
       "    <tr style=\"text-align: right;\">\n",
       "      <th></th>\n",
       "      <th>index</th>\n",
       "      <th>EMcrossnear</th>\n",
       "      <th>MMRstrengthnear</th>\n",
       "      <th>twoMMRstrengthnear</th>\n",
       "      <th>MMRstrengthWnear</th>\n",
       "      <th>twoMMRstrengthWnear</th>\n",
       "      <th>EMcrossfar</th>\n",
       "      <th>MMRstrengthfar</th>\n",
       "      <th>twoMMRstrengthfar</th>\n",
       "      <th>MMRstrengthWfar</th>\n",
       "      <th>...</th>\n",
       "      <th>EMnear</th>\n",
       "      <th>EPnear</th>\n",
       "      <th>EMfar</th>\n",
       "      <th>EPfar</th>\n",
       "      <th>EMouter</th>\n",
       "      <th>EPouter</th>\n",
       "      <th>prelimStable</th>\n",
       "      <th>Stable</th>\n",
       "      <th>instability_time</th>\n",
       "      <th>shadow_instability_time</th>\n",
       "    </tr>\n",
       "  </thead>\n",
       "  <tbody>\n",
       "    <tr>\n",
       "      <th>8989</th>\n",
       "      <td>8989</td>\n",
       "      <td>0.035150</td>\n",
       "      <td>0.072216</td>\n",
       "      <td>0.069465</td>\n",
       "      <td>0.002055</td>\n",
       "      <td>0.000119</td>\n",
       "      <td>0.795603</td>\n",
       "      <td>0.000004</td>\n",
       "      <td>1.097932e-07</td>\n",
       "      <td>0.000035</td>\n",
       "      <td>...</td>\n",
       "      <td>0.007498</td>\n",
       "      <td>0.001255</td>\n",
       "      <td>0.000795</td>\n",
       "      <td>0.000021</td>\n",
       "      <td>0.008241</td>\n",
       "      <td>0.000017</td>\n",
       "      <td>True</td>\n",
       "      <td>True</td>\n",
       "      <td>1.000049e+09</td>\n",
       "      <td>1.000049e+09</td>\n",
       "    </tr>\n",
       "    <tr>\n",
       "      <th>53289</th>\n",
       "      <td>53289</td>\n",
       "      <td>0.027607</td>\n",
       "      <td>0.628330</td>\n",
       "      <td>0.010454</td>\n",
       "      <td>0.001995</td>\n",
       "      <td>0.001999</td>\n",
       "      <td>0.682728</td>\n",
       "      <td>0.000028</td>\n",
       "      <td>7.539808e-06</td>\n",
       "      <td>0.000091</td>\n",
       "      <td>...</td>\n",
       "      <td>0.007178</td>\n",
       "      <td>0.018724</td>\n",
       "      <td>0.017800</td>\n",
       "      <td>0.000135</td>\n",
       "      <td>0.023586</td>\n",
       "      <td>0.000038</td>\n",
       "      <td>True</td>\n",
       "      <td>True</td>\n",
       "      <td>1.000000e+09</td>\n",
       "      <td>1.000000e+09</td>\n",
       "    </tr>\n",
       "    <tr>\n",
       "      <th>62512</th>\n",
       "      <td>62512</td>\n",
       "      <td>0.027607</td>\n",
       "      <td>0.628330</td>\n",
       "      <td>0.010454</td>\n",
       "      <td>0.001995</td>\n",
       "      <td>0.001999</td>\n",
       "      <td>0.682728</td>\n",
       "      <td>0.000028</td>\n",
       "      <td>7.539808e-06</td>\n",
       "      <td>0.000091</td>\n",
       "      <td>...</td>\n",
       "      <td>0.007178</td>\n",
       "      <td>0.018724</td>\n",
       "      <td>0.017800</td>\n",
       "      <td>0.000135</td>\n",
       "      <td>0.023586</td>\n",
       "      <td>0.000038</td>\n",
       "      <td>True</td>\n",
       "      <td>True</td>\n",
       "      <td>1.000000e+09</td>\n",
       "      <td>1.000000e+09</td>\n",
       "    </tr>\n",
       "    <tr>\n",
       "      <th>72620</th>\n",
       "      <td>72620</td>\n",
       "      <td>0.034892</td>\n",
       "      <td>0.414495</td>\n",
       "      <td>0.025368</td>\n",
       "      <td>0.002870</td>\n",
       "      <td>0.002878</td>\n",
       "      <td>0.659229</td>\n",
       "      <td>0.000006</td>\n",
       "      <td>0.000000e+00</td>\n",
       "      <td>0.000069</td>\n",
       "      <td>...</td>\n",
       "      <td>0.023746</td>\n",
       "      <td>0.016444</td>\n",
       "      <td>0.018859</td>\n",
       "      <td>0.000395</td>\n",
       "      <td>0.018505</td>\n",
       "      <td>0.000092</td>\n",
       "      <td>True</td>\n",
       "      <td>True</td>\n",
       "      <td>1.000000e+09</td>\n",
       "      <td>1.000000e+09</td>\n",
       "    </tr>\n",
       "    <tr>\n",
       "      <th>75295</th>\n",
       "      <td>75295</td>\n",
       "      <td>0.027607</td>\n",
       "      <td>0.628330</td>\n",
       "      <td>0.010454</td>\n",
       "      <td>0.001995</td>\n",
       "      <td>0.001999</td>\n",
       "      <td>0.682728</td>\n",
       "      <td>0.000028</td>\n",
       "      <td>7.539808e-06</td>\n",
       "      <td>0.000091</td>\n",
       "      <td>...</td>\n",
       "      <td>0.007178</td>\n",
       "      <td>0.018724</td>\n",
       "      <td>0.017800</td>\n",
       "      <td>0.000135</td>\n",
       "      <td>0.023586</td>\n",
       "      <td>0.000038</td>\n",
       "      <td>True</td>\n",
       "      <td>True</td>\n",
       "      <td>1.000000e+09</td>\n",
       "      <td>1.000000e+09</td>\n",
       "    </tr>\n",
       "    <tr>\n",
       "      <th>95148</th>\n",
       "      <td>95148</td>\n",
       "      <td>0.028827</td>\n",
       "      <td>0.579389</td>\n",
       "      <td>0.022892</td>\n",
       "      <td>0.002372</td>\n",
       "      <td>0.002376</td>\n",
       "      <td>0.866361</td>\n",
       "      <td>0.000265</td>\n",
       "      <td>7.771767e-07</td>\n",
       "      <td>0.000321</td>\n",
       "      <td>...</td>\n",
       "      <td>0.022519</td>\n",
       "      <td>0.006195</td>\n",
       "      <td>0.008956</td>\n",
       "      <td>0.014425</td>\n",
       "      <td>0.020867</td>\n",
       "      <td>0.014500</td>\n",
       "      <td>True</td>\n",
       "      <td>True</td>\n",
       "      <td>1.000000e+09</td>\n",
       "      <td>1.000000e+09</td>\n",
       "    </tr>\n",
       "    <tr>\n",
       "      <th>131943</th>\n",
       "      <td>131943</td>\n",
       "      <td>0.026609</td>\n",
       "      <td>0.092595</td>\n",
       "      <td>0.011490</td>\n",
       "      <td>0.001664</td>\n",
       "      <td>0.001667</td>\n",
       "      <td>0.710198</td>\n",
       "      <td>0.000010</td>\n",
       "      <td>5.766318e-06</td>\n",
       "      <td>0.000030</td>\n",
       "      <td>...</td>\n",
       "      <td>0.005786</td>\n",
       "      <td>0.020170</td>\n",
       "      <td>0.008942</td>\n",
       "      <td>0.028869</td>\n",
       "      <td>0.014429</td>\n",
       "      <td>0.028825</td>\n",
       "      <td>True</td>\n",
       "      <td>True</td>\n",
       "      <td>1.000000e+09</td>\n",
       "      <td>1.000000e+09</td>\n",
       "    </tr>\n",
       "  </tbody>\n",
       "</table>\n",
       "<p>7 rows × 57 columns</p>\n",
       "</div>"
      ],
      "text/plain": [
       "         index  EMcrossnear  MMRstrengthnear  twoMMRstrengthnear  \\\n",
       "8989      8989     0.035150         0.072216            0.069465   \n",
       "53289    53289     0.027607         0.628330            0.010454   \n",
       "62512    62512     0.027607         0.628330            0.010454   \n",
       "72620    72620     0.034892         0.414495            0.025368   \n",
       "75295    75295     0.027607         0.628330            0.010454   \n",
       "95148    95148     0.028827         0.579389            0.022892   \n",
       "131943  131943     0.026609         0.092595            0.011490   \n",
       "\n",
       "        MMRstrengthWnear  twoMMRstrengthWnear  EMcrossfar  MMRstrengthfar  \\\n",
       "8989            0.002055             0.000119    0.795603        0.000004   \n",
       "53289           0.001995             0.001999    0.682728        0.000028   \n",
       "62512           0.001995             0.001999    0.682728        0.000028   \n",
       "72620           0.002870             0.002878    0.659229        0.000006   \n",
       "75295           0.001995             0.001999    0.682728        0.000028   \n",
       "95148           0.002372             0.002376    0.866361        0.000265   \n",
       "131943          0.001664             0.001667    0.710198        0.000010   \n",
       "\n",
       "        twoMMRstrengthfar  MMRstrengthWfar  ...    EMnear    EPnear     EMfar  \\\n",
       "8989         1.097932e-07         0.000035  ...  0.007498  0.001255  0.000795   \n",
       "53289        7.539808e-06         0.000091  ...  0.007178  0.018724  0.017800   \n",
       "62512        7.539808e-06         0.000091  ...  0.007178  0.018724  0.017800   \n",
       "72620        0.000000e+00         0.000069  ...  0.023746  0.016444  0.018859   \n",
       "75295        7.539808e-06         0.000091  ...  0.007178  0.018724  0.017800   \n",
       "95148        7.771767e-07         0.000321  ...  0.022519  0.006195  0.008956   \n",
       "131943       5.766318e-06         0.000030  ...  0.005786  0.020170  0.008942   \n",
       "\n",
       "           EPfar   EMouter   EPouter  prelimStable  Stable  instability_time  \\\n",
       "8989    0.000021  0.008241  0.000017          True    True      1.000049e+09   \n",
       "53289   0.000135  0.023586  0.000038          True    True      1.000000e+09   \n",
       "62512   0.000135  0.023586  0.000038          True    True      1.000000e+09   \n",
       "72620   0.000395  0.018505  0.000092          True    True      1.000000e+09   \n",
       "75295   0.000135  0.023586  0.000038          True    True      1.000000e+09   \n",
       "95148   0.014425  0.020867  0.014500          True    True      1.000000e+09   \n",
       "131943  0.028869  0.014429  0.028825          True    True      1.000000e+09   \n",
       "\n",
       "        shadow_instability_time  \n",
       "8989               1.000049e+09  \n",
       "53289              1.000000e+09  \n",
       "62512              1.000000e+09  \n",
       "72620              1.000000e+09  \n",
       "75295              1.000000e+09  \n",
       "95148              1.000000e+09  \n",
       "131943             1.000000e+09  \n",
       "\n",
       "[7 rows x 57 columns]"
      ]
     },
     "execution_count": 148,
     "metadata": {},
     "output_type": "execute_result"
    }
   ],
   "source": [
    "plot"
   ]
  },
  {
   "cell_type": "code",
   "execution_count": 127,
   "metadata": {},
   "outputs": [
    {
     "data": {
      "text/html": [
       "<div>\n",
       "<style scoped>\n",
       "    .dataframe tbody tr th:only-of-type {\n",
       "        vertical-align: middle;\n",
       "    }\n",
       "\n",
       "    .dataframe tbody tr th {\n",
       "        vertical-align: top;\n",
       "    }\n",
       "\n",
       "    .dataframe thead th {\n",
       "        text-align: right;\n",
       "    }\n",
       "</style>\n",
       "<table border=\"1\" class=\"dataframe\">\n",
       "  <thead>\n",
       "    <tr style=\"text-align: right;\">\n",
       "      <th></th>\n",
       "      <th>m1</th>\n",
       "      <th>pomega1</th>\n",
       "      <th>e1</th>\n",
       "      <th>m2</th>\n",
       "      <th>pomega2</th>\n",
       "      <th>e2</th>\n",
       "      <th>m3</th>\n",
       "      <th>pomega3</th>\n",
       "      <th>e3</th>\n",
       "    </tr>\n",
       "  </thead>\n",
       "  <tbody>\n",
       "    <tr>\n",
       "      <th>8989</th>\n",
       "      <td>0.000097</td>\n",
       "      <td>0.582584</td>\n",
       "      <td>0.000004</td>\n",
       "      <td>2.290862e-06</td>\n",
       "      <td>1.415617</td>\n",
       "      <td>0.000797</td>\n",
       "      <td>1.564891e-07</td>\n",
       "      <td>1.071762</td>\n",
       "      <td>0.008244</td>\n",
       "    </tr>\n",
       "    <tr>\n",
       "      <th>53289</th>\n",
       "      <td>0.000071</td>\n",
       "      <td>3.656528</td>\n",
       "      <td>0.000001</td>\n",
       "      <td>5.398661e-07</td>\n",
       "      <td>-3.360951</td>\n",
       "      <td>0.017801</td>\n",
       "      <td>1.115936e-07</td>\n",
       "      <td>3.129953</td>\n",
       "      <td>0.023587</td>\n",
       "    </tr>\n",
       "    <tr>\n",
       "      <th>62512</th>\n",
       "      <td>0.000071</td>\n",
       "      <td>3.656528</td>\n",
       "      <td>0.000001</td>\n",
       "      <td>5.398661e-07</td>\n",
       "      <td>-3.360951</td>\n",
       "      <td>0.017801</td>\n",
       "      <td>1.115936e-07</td>\n",
       "      <td>3.129953</td>\n",
       "      <td>0.023587</td>\n",
       "    </tr>\n",
       "    <tr>\n",
       "      <th>72620</th>\n",
       "      <td>0.000084</td>\n",
       "      <td>1.770916</td>\n",
       "      <td>0.000014</td>\n",
       "      <td>1.730529e-06</td>\n",
       "      <td>1.404323</td>\n",
       "      <td>0.018872</td>\n",
       "      <td>3.805888e-07</td>\n",
       "      <td>2.780693</td>\n",
       "      <td>0.018512</td>\n",
       "    </tr>\n",
       "    <tr>\n",
       "      <th>75295</th>\n",
       "      <td>0.000071</td>\n",
       "      <td>3.656528</td>\n",
       "      <td>0.000001</td>\n",
       "      <td>5.398661e-07</td>\n",
       "      <td>-3.360951</td>\n",
       "      <td>0.017801</td>\n",
       "      <td>1.115936e-07</td>\n",
       "      <td>3.129953</td>\n",
       "      <td>0.023587</td>\n",
       "    </tr>\n",
       "    <tr>\n",
       "      <th>95148</th>\n",
       "      <td>0.000096</td>\n",
       "      <td>-5.071562</td>\n",
       "      <td>0.014509</td>\n",
       "      <td>9.613635e-07</td>\n",
       "      <td>0.758990</td>\n",
       "      <td>0.006728</td>\n",
       "      <td>1.197440e-07</td>\n",
       "      <td>2.429232</td>\n",
       "      <td>0.020833</td>\n",
       "    </tr>\n",
       "    <tr>\n",
       "      <th>131943</th>\n",
       "      <td>0.000061</td>\n",
       "      <td>-2.404079</td>\n",
       "      <td>0.028905</td>\n",
       "      <td>3.182482e-07</td>\n",
       "      <td>4.135679</td>\n",
       "      <td>0.022845</td>\n",
       "      <td>3.986578e-07</td>\n",
       "      <td>4.302661</td>\n",
       "      <td>0.018162</td>\n",
       "    </tr>\n",
       "  </tbody>\n",
       "</table>\n",
       "</div>"
      ],
      "text/plain": [
       "              m1   pomega1        e1            m2   pomega2        e2  \\\n",
       "8989    0.000097  0.582584  0.000004  2.290862e-06  1.415617  0.000797   \n",
       "53289   0.000071  3.656528  0.000001  5.398661e-07 -3.360951  0.017801   \n",
       "62512   0.000071  3.656528  0.000001  5.398661e-07 -3.360951  0.017801   \n",
       "72620   0.000084  1.770916  0.000014  1.730529e-06  1.404323  0.018872   \n",
       "75295   0.000071  3.656528  0.000001  5.398661e-07 -3.360951  0.017801   \n",
       "95148   0.000096 -5.071562  0.014509  9.613635e-07  0.758990  0.006728   \n",
       "131943  0.000061 -2.404079  0.028905  3.182482e-07  4.135679  0.022845   \n",
       "\n",
       "                  m3   pomega3        e3  \n",
       "8989    1.564891e-07  1.071762  0.008244  \n",
       "53289   1.115936e-07  3.129953  0.023587  \n",
       "62512   1.115936e-07  3.129953  0.023587  \n",
       "72620   3.805888e-07  2.780693  0.018512  \n",
       "75295   1.115936e-07  3.129953  0.023587  \n",
       "95148   1.197440e-07  2.429232  0.020833  \n",
       "131943  3.986578e-07  4.302661  0.018162  "
      ]
     },
     "execution_count": 127,
     "metadata": {},
     "output_type": "execute_result"
    }
   ],
   "source": [
    "plot[['m1','pomega1','e1','a1','m2','pomega2','e2','a2','m3','pomega3','e3','a3',]]"
   ]
  },
  {
   "cell_type": "code",
   "execution_count": 110,
   "metadata": {},
   "outputs": [
    {
     "data": {
      "text/html": [
       "<div>\n",
       "<style scoped>\n",
       "    .dataframe tbody tr th:only-of-type {\n",
       "        vertical-align: middle;\n",
       "    }\n",
       "\n",
       "    .dataframe tbody tr th {\n",
       "        vertical-align: top;\n",
       "    }\n",
       "\n",
       "    .dataframe thead th {\n",
       "        text-align: right;\n",
       "    }\n",
       "</style>\n",
       "<table border=\"1\" class=\"dataframe\">\n",
       "  <thead>\n",
       "    <tr style=\"text-align: right;\">\n",
       "      <th></th>\n",
       "      <th>e1</th>\n",
       "      <th>e2</th>\n",
       "      <th>e3</th>\n",
       "      <th>a1</th>\n",
       "      <th>a2</th>\n",
       "      <th>a3</th>\n",
       "    </tr>\n",
       "  </thead>\n",
       "  <tbody>\n",
       "    <tr>\n",
       "      <th>8989</th>\n",
       "      <td>0.000004</td>\n",
       "      <td>0.000797</td>\n",
       "      <td>0.008244</td>\n",
       "      <td>1.0</td>\n",
       "      <td>1.795603</td>\n",
       "      <td>1.858719</td>\n",
       "    </tr>\n",
       "    <tr>\n",
       "      <th>53289</th>\n",
       "      <td>0.000001</td>\n",
       "      <td>0.017801</td>\n",
       "      <td>0.023587</td>\n",
       "      <td>1.0</td>\n",
       "      <td>1.682728</td>\n",
       "      <td>1.729183</td>\n",
       "    </tr>\n",
       "    <tr>\n",
       "      <th>62512</th>\n",
       "      <td>0.000001</td>\n",
       "      <td>0.017801</td>\n",
       "      <td>0.023587</td>\n",
       "      <td>1.0</td>\n",
       "      <td>1.682728</td>\n",
       "      <td>1.729183</td>\n",
       "    </tr>\n",
       "    <tr>\n",
       "      <th>72620</th>\n",
       "      <td>0.000014</td>\n",
       "      <td>0.018872</td>\n",
       "      <td>0.018512</td>\n",
       "      <td>1.0</td>\n",
       "      <td>1.659229</td>\n",
       "      <td>1.717123</td>\n",
       "    </tr>\n",
       "    <tr>\n",
       "      <th>75295</th>\n",
       "      <td>0.000001</td>\n",
       "      <td>0.017801</td>\n",
       "      <td>0.023587</td>\n",
       "      <td>1.0</td>\n",
       "      <td>1.682728</td>\n",
       "      <td>1.729183</td>\n",
       "    </tr>\n",
       "    <tr>\n",
       "      <th>95148</th>\n",
       "      <td>0.014509</td>\n",
       "      <td>0.006728</td>\n",
       "      <td>0.020833</td>\n",
       "      <td>1.0</td>\n",
       "      <td>1.866361</td>\n",
       "      <td>1.920162</td>\n",
       "    </tr>\n",
       "    <tr>\n",
       "      <th>131943</th>\n",
       "      <td>0.028905</td>\n",
       "      <td>0.022845</td>\n",
       "      <td>0.018162</td>\n",
       "      <td>1.0</td>\n",
       "      <td>1.710198</td>\n",
       "      <td>1.755705</td>\n",
       "    </tr>\n",
       "  </tbody>\n",
       "</table>\n",
       "</div>"
      ],
      "text/plain": [
       "              e1        e2        e3   a1        a2        a3\n",
       "8989    0.000004  0.000797  0.008244  1.0  1.795603  1.858719\n",
       "53289   0.000001  0.017801  0.023587  1.0  1.682728  1.729183\n",
       "62512   0.000001  0.017801  0.023587  1.0  1.682728  1.729183\n",
       "72620   0.000014  0.018872  0.018512  1.0  1.659229  1.717123\n",
       "75295   0.000001  0.017801  0.023587  1.0  1.682728  1.729183\n",
       "95148   0.014509  0.006728  0.020833  1.0  1.866361  1.920162\n",
       "131943  0.028905  0.022845  0.018162  1.0  1.710198  1.755705"
      ]
     },
     "execution_count": 110,
     "metadata": {},
     "output_type": "execute_result"
    }
   ],
   "source": [
    "plot[['e1','e2','e3','a1','a2','a3']]"
   ]
  },
  {
   "cell_type": "code",
   "execution_count": 9,
   "metadata": {},
   "outputs": [],
   "source": [
    "import rebound"
   ]
  },
  {
   "cell_type": "code",
   "execution_count": 179,
   "metadata": {},
   "outputs": [],
   "source": [
    "initial.iloc[131943,2:].to_csv('zsendEritas.csv')"
   ]
  },
  {
   "cell_type": "code",
   "execution_count": 24,
   "metadata": {},
   "outputs": [
    {
     "name": "stderr",
     "output_type": "stream",
     "text": [
      "/home/ethadhani/SPOCKalt/secondMMRintData/../SPOCKalt/simsetup.py:41: FutureWarning: Series.__getitem__ treating keys as positions is deprecated. In a future version, integer keys will always be treated as labels (consistent with DataFrame behavior). To access a value by position, use `ser.iloc[pos]`\n",
      "  sim.add(m=data[0], x=data[1], y=data[2], z=data[3], vx=data[4], vy=data[5], vz=data[6])\n",
      "/home/ethadhani/SPOCKalt/secondMMRintData/../SPOCKalt/simsetup.py:42: FutureWarning: Series.__getitem__ treating keys as positions is deprecated. In a future version, integer keys will always be treated as labels (consistent with DataFrame behavior). To access a value by position, use `ser.iloc[pos]`\n",
      "  sim.add(m=data[7], x=data[8], y=data[9], z=data[10], vx=data[11], vy=data[12], vz=data[13])\n",
      "/home/ethadhani/SPOCKalt/secondMMRintData/../SPOCKalt/simsetup.py:43: FutureWarning: Series.__getitem__ treating keys as positions is deprecated. In a future version, integer keys will always be treated as labels (consistent with DataFrame behavior). To access a value by position, use `ser.iloc[pos]`\n",
      "  sim.add(m=data[14], x=data[15], y=data[16], z=data[17], vx=data[18], vy=data[19], vz=data[20])\n",
      "/home/ethadhani/SPOCKalt/secondMMRintData/../SPOCKalt/simsetup.py:44: FutureWarning: Series.__getitem__ treating keys as positions is deprecated. In a future version, integer keys will always be treated as labels (consistent with DataFrame behavior). To access a value by position, use `ser.iloc[pos]`\n",
      "  sim.add(m=data[21], x=data[22], y=data[23], z=data[24], vx=data[25], vy=data[26], vz=data[27])\n"
     ]
    }
   ],
   "source": [
    "simlist = []\n",
    "for x in plot.iloc[:,0]:\n",
    "    simlist.append(simsetup.get_simList(initial.iloc[x,2:]))\n",
    "for each in simlist:\n",
    "    simsetup.init_sim_parameters(each)"
   ]
  },
  {
   "cell_type": "code",
   "execution_count": 284,
   "metadata": {},
   "outputs": [
    {
     "data": {
      "text/plain": [
       "Unnamed: 0                              1311\n",
       "runstring                        0001311.bin\n",
       "p0m                                      1.0\n",
       "p0x                                -0.000008\n",
       "p0y                                -0.000024\n",
       "p0z                                     -0.0\n",
       "p0vx                                0.000098\n",
       "p0vy                               -0.000034\n",
       "p0vz                                0.000001\n",
       "p1m                                      0.0\n",
       "p1x                                -0.861103\n",
       "p1y                                -0.508515\n",
       "p1z                                 0.002029\n",
       "p1vx                                3.194344\n",
       "p1vy                               -5.408601\n",
       "p1vz                                0.143358\n",
       "p2m                                 0.000001\n",
       "p2x                                -0.963442\n",
       "p2y                                -0.776442\n",
       "p2z                                -0.008295\n",
       "p2vx                                3.658817\n",
       "p2vy                               -4.223887\n",
       "p2vz                                0.018562\n",
       "p3m                                  0.00002\n",
       "p3x                                 0.457344\n",
       "p3y                                 1.216675\n",
       "p3z                                 0.001668\n",
       "p3vx                               -5.114674\n",
       "p3vy                                1.986758\n",
       "p3vz                               -0.040239\n",
       "instability_time           1000000136.066116\n",
       "shadow_instability_time    1000000136.066116\n",
       "Stable                                  True\n",
       "Name: 1311, dtype: object"
      ]
     },
     "execution_count": 284,
     "metadata": {},
     "output_type": "execute_result"
    }
   ],
   "source": [
    "initial.iloc[1311,0:]"
   ]
  },
  {
   "cell_type": "code",
   "execution_count": 294,
   "metadata": {},
   "outputs": [
    {
     "name": "stderr",
     "output_type": "stream",
     "text": [
      "/home/ethadhani/SPOCKalt/secondMMRintData/../SPOCKalt/simsetup.py:41: FutureWarning: Series.__getitem__ treating keys as positions is deprecated. In a future version, integer keys will always be treated as labels (consistent with DataFrame behavior). To access a value by position, use `ser.iloc[pos]`\n",
      "  sim.add(m=data[0], x=data[1], y=data[2], z=data[3], vx=data[4], vy=data[5], vz=data[6])\n",
      "/home/ethadhani/SPOCKalt/secondMMRintData/../SPOCKalt/simsetup.py:42: FutureWarning: Series.__getitem__ treating keys as positions is deprecated. In a future version, integer keys will always be treated as labels (consistent with DataFrame behavior). To access a value by position, use `ser.iloc[pos]`\n",
      "  sim.add(m=data[7], x=data[8], y=data[9], z=data[10], vx=data[11], vy=data[12], vz=data[13])\n",
      "/home/ethadhani/SPOCKalt/secondMMRintData/../SPOCKalt/simsetup.py:43: FutureWarning: Series.__getitem__ treating keys as positions is deprecated. In a future version, integer keys will always be treated as labels (consistent with DataFrame behavior). To access a value by position, use `ser.iloc[pos]`\n",
      "  sim.add(m=data[14], x=data[15], y=data[16], z=data[17], vx=data[18], vy=data[19], vz=data[20])\n",
      "/home/ethadhani/SPOCKalt/secondMMRintData/../SPOCKalt/simsetup.py:44: FutureWarning: Series.__getitem__ treating keys as positions is deprecated. In a future version, integer keys will always be treated as labels (consistent with DataFrame behavior). To access a value by position, use `ser.iloc[pos]`\n",
      "  sim.add(m=data[21], x=data[22], y=data[23], z=data[24], vx=data[25], vy=data[26], vz=data[27])\n"
     ]
    }
   ],
   "source": [
    "sim = simsetup.get_simList(initial.iloc[1311,2:])"
   ]
  },
  {
   "cell_type": "code",
   "execution_count": 295,
   "metadata": {},
   "outputs": [],
   "source": [
    "simsetup.init_sim_parameters(sim)"
   ]
  },
  {
   "cell_type": "code",
   "execution_count": 296,
   "metadata": {},
   "outputs": [
    {
     "data": {
      "text/plain": [
       "<rebound.plotting.OrbitPlot at 0x7ff2b47f37c0>"
      ]
     },
     "execution_count": 296,
     "metadata": {},
     "output_type": "execute_result"
    },
    {
     "data": {
      "image/png": "[encoded data removed]",
      "text/plain": [
       "<Figure size 500x500 with 1 Axes>"
      ]
     },
     "metadata": {},
     "output_type": "display_data"
    }
   ],
   "source": [
    "rebound.OrbitPlot(sim)"
   ]
  },
  {
   "cell_type": "code",
   "execution_count": 297,
   "metadata": {},
   "outputs": [
    {
     "ename": "Collision",
     "evalue": "Two particles collided (d < r1+r2)",
     "output_type": "error",
     "traceback": [
      "\u001b[0;31m---------------------------------------------------------------------------\u001b[0m",
      "\u001b[0;31mCollision\u001b[0m                                 Traceback (most recent call last)",
      "Cell \u001b[0;32mIn[297], line 1\u001b[0m\n\u001b[0;32m----> 1\u001b[0m \u001b[43msim\u001b[49m\u001b[38;5;241;43m.\u001b[39;49m\u001b[43mintegrate\u001b[49m\u001b[43m(\u001b[49m\u001b[38;5;241;43m1e4\u001b[39;49m\u001b[43m,\u001b[49m\u001b[43m \u001b[49m\u001b[43mexact_finish_time\u001b[49m\u001b[38;5;241;43m=\u001b[39;49m\u001b[38;5;241;43m0\u001b[39;49m\u001b[43m)\u001b[49m\n",
      "File \u001b[0;32m/home/miniconda3/envs/ethadhani/lib/python3.10/site-packages/rebound/simulation.py:1416\u001b[0m, in \u001b[0;36mSimulation.integrate\u001b[0;34m(self, tmax, exact_finish_time)\u001b[0m\n\u001b[1;32m   1414\u001b[0m     \u001b[38;5;28;01mraise\u001b[39;00m \u001b[38;5;167;01mKeyboardInterrupt\u001b[39;00m\n\u001b[1;32m   1415\u001b[0m \u001b[38;5;28;01mif\u001b[39;00m ret_value \u001b[38;5;241m==\u001b[39m \u001b[38;5;241m7\u001b[39m:\n\u001b[0;32m-> 1416\u001b[0m     \u001b[38;5;28;01mraise\u001b[39;00m Collision(\u001b[38;5;124m\"\u001b[39m\u001b[38;5;124mTwo particles collided (d < r1+r2)\u001b[39m\u001b[38;5;124m\"\u001b[39m)\n\u001b[1;32m   1417\u001b[0m \u001b[38;5;28mself\u001b[39m\u001b[38;5;241m.\u001b[39mprocess_messages()\n",
      "\u001b[0;31mCollision\u001b[0m: Two particles collided (d < r1+r2)"
     ]
    }
   ],
   "source": [
    "sim.integrate(1e4, exact_finish_time=0)"
   ]
  },
  {
   "cell_type": "code",
   "execution_count": 298,
   "metadata": {},
   "outputs": [
    {
     "data": {
      "text/latex": [
       "$\\displaystyle 564.969071135475$"
      ],
      "text/plain": [
       "564.9690711354754"
      ]
     },
     "execution_count": 298,
     "metadata": {},
     "output_type": "execute_result"
    }
   ],
   "source": [
    "sim.t"
   ]
  },
  {
   "cell_type": "code",
   "execution_count": 293,
   "metadata": {},
   "outputs": [
    {
     "data": {
      "text/plain": [
       "<rebound.plotting.OrbitPlot at 0x7ff2b48c3df0>"
      ]
     },
     "execution_count": 293,
     "metadata": {},
     "output_type": "execute_result"
    },
    {
     "data": {
      "image/png": "[encoded data removed]",
      "text/plain": [
       "<Figure size 500x500 with 1 Axes>"
      ]
     },
     "metadata": {},
     "output_type": "display_data"
    }
   ],
   "source": [
    "rebound.OrbitPlot(sim)"
   ]
  },
  {
   "cell_type": "code",
   "execution_count": 288,
   "metadata": {},
   "outputs": [],
   "source": [
    "# for x in range(10000):\n",
    "#     sim.integrate(x)\n",
    "#     rebound.OrbitPlot(sim)"
   ]
  },
  {
   "cell_type": "markdown",
   "metadata": {},
   "source": []
  },
  {
   "cell_type": "code",
   "execution_count": 25,
   "metadata": {},
   "outputs": [],
   "source": [
    "def int(sim):\n",
    "    Nout = 1000\n",
    "    Nint = 8\n",
    "    times = np.linspace(0,Nint,Nout)\n",
    "    \n",
    "    p2p1 = []\n",
    "    p3p2 = []\n",
    "    ps = sim.particles\n",
    "    for time in times:\n",
    "        try:\n",
    "            sim.integrate(10**time, exact_finish_time=0)\n",
    "            p2p1.append((ps[2].P/ps[1].P))\n",
    "            p3p2.append((ps[3].P/ps[2].P))\n",
    "            #print(p2p1)\n",
    "        except:\n",
    "            p2p1.append(np.nan)\n",
    "            p3p2.append(np.nan)\n",
    "        #labels = [lable]*Nout\n",
    "    tseries = pd.DataFrame({'p2/p1': p2p1, 'p3/p2': p3p2, 'times': times})\n",
    "\n",
    "\n",
    "    return tseries\n"
   ]
  },
  {
   "cell_type": "code",
   "execution_count": 27,
   "metadata": {},
   "outputs": [
    {
     "name": "stdout",
     "output_type": "stream",
     "text": [
      "CPU times: user 137 ms, sys: 447 ms, total: 585 ms\n",
      "Wall time: 1h 13min 43s\n"
     ]
    }
   ],
   "source": [
    "%%time\n",
    "if __name__ == \"__main__\":  # confirms that the code is under main function\n",
    "\n",
    "    \n",
    "    with Pool() as p:\n",
    "        new = list(p.map(int, simlist))\n",
    "    # test = list(map(runInt, bound))\n",
    "    # print(test)\n",
    "    data = pd.concat(new)\n",
    " "
   ]
  },
  {
   "cell_type": "code",
   "execution_count": 26,
   "metadata": {},
   "outputs": [
    {
     "data": {
      "text/latex": [
       "$\\displaystyle 7$"
      ],
      "text/plain": [
       "7"
      ]
     },
     "execution_count": 26,
     "metadata": {},
     "output_type": "execute_result"
    }
   ],
   "source": [
    "len(simlist)"
   ]
  },
  {
   "cell_type": "code",
   "execution_count": 28,
   "metadata": {},
   "outputs": [
    {
     "data": {
      "text/plain": [
       "<Axes: xlabel='p2/p1', ylabel='p3/p2'>"
      ]
     },
     "execution_count": 28,
     "metadata": {},
     "output_type": "execute_result"
    },
    {
     "data": {
      "image/png": "[encoded data removed]",
      "text/plain": [
       "<Figure size 640x480 with 2 Axes>"
      ]
     },
     "metadata": {},
     "output_type": "display_data"
    }
   ],
   "source": [
    "\n",
    "data.plot.scatter(x=\"p2/p1\", y=\"p3/p2\",s=2, c=\"times\", colormap=\"copper\", alpha=.5)\n"
   ]
  },
  {
   "cell_type": "code",
   "execution_count": 29,
   "metadata": {},
   "outputs": [],
   "source": [
    "#data.to_csv('7inomolies.csv') the outlier ones\n",
    "#data.to_csv('7norm.csv') normy ones"
   ]
  },
  {
   "cell_type": "code",
   "execution_count": 31,
   "metadata": {},
   "outputs": [
    {
     "name": "stderr",
     "output_type": "stream",
     "text": [
      "/tmp/ipykernel_74424/3706941219.py:2: MatplotlibDeprecationWarning: The get_cmap function was deprecated in Matplotlib 3.7 and will be removed two minor releases later. Use ``matplotlib.colormaps[name]`` or ``matplotlib.colormaps.get_cmap(obj)`` instead.\n",
      "  plt.scatter((data['p2/p1']),(data['p3/p2']), s=2, c=((data['times'])), cmap=plt.cm.get_cmap(\"copper\",20),alpha=1)\n"
     ]
    },
    {
     "data": {
      "image/png": "[encoded data removed]",
      "text/plain": [
       "<Figure size 640x480 with 2 Axes>"
      ]
     },
     "metadata": {},
     "output_type": "display_data"
    }
   ],
   "source": [
    "ax = plt.axes()\n",
    "plt.scatter((data['p2/p1']),(data['p3/p2']), s=2, c=((data['times'])), cmap=plt.cm.get_cmap(\"copper\",20),alpha=1)\n",
    "cbar = plt.colorbar(orientation=\"vertical\", extend=\"both\",\n",
    "                   pad=0.05, shrink=1, aspect=20, format=\"%.3f\")\n",
    "ax.set_xlim([1.25,1.35])\n",
    "ax.set_ylim([1.6,1.7])\n",
    "plt.show()"
   ]
  },
  {
   "cell_type": "code",
   "execution_count": null,
   "metadata": {},
   "outputs": [],
   "source": [
    "plt.scatter()"
   ]
  },
  {
   "cell_type": "code",
   "execution_count": 41,
   "metadata": {},
   "outputs": [
    {
     "data": {
      "text/html": [
       "<div>\n",
       "<style scoped>\n",
       "    .dataframe tbody tr th:only-of-type {\n",
       "        vertical-align: middle;\n",
       "    }\n",
       "\n",
       "    .dataframe tbody tr th {\n",
       "        vertical-align: top;\n",
       "    }\n",
       "\n",
       "    .dataframe thead th {\n",
       "        text-align: right;\n",
       "    }\n",
       "</style>\n",
       "<table border=\"1\" class=\"dataframe\">\n",
       "  <thead>\n",
       "    <tr style=\"text-align: right;\">\n",
       "      <th></th>\n",
       "      <th>p2/p1</th>\n",
       "      <th>p3/p2</th>\n",
       "      <th>times</th>\n",
       "    </tr>\n",
       "  </thead>\n",
       "  <tbody>\n",
       "    <tr>\n",
       "      <th>0</th>\n",
       "      <td>1.333927</td>\n",
       "      <td>1.096771</td>\n",
       "      <td>0.0000</td>\n",
       "    </tr>\n",
       "    <tr>\n",
       "      <th>1</th>\n",
       "      <td>1.333917</td>\n",
       "      <td>1.096770</td>\n",
       "      <td>0.0006</td>\n",
       "    </tr>\n",
       "    <tr>\n",
       "      <th>2</th>\n",
       "      <td>1.333927</td>\n",
       "      <td>1.096771</td>\n",
       "      <td>0.0012</td>\n",
       "    </tr>\n",
       "    <tr>\n",
       "      <th>3</th>\n",
       "      <td>1.333917</td>\n",
       "      <td>1.096770</td>\n",
       "      <td>0.0018</td>\n",
       "    </tr>\n",
       "    <tr>\n",
       "      <th>4</th>\n",
       "      <td>1.333927</td>\n",
       "      <td>1.096771</td>\n",
       "      <td>0.0024</td>\n",
       "    </tr>\n",
       "    <tr>\n",
       "      <th>...</th>\n",
       "      <td>...</td>\n",
       "      <td>...</td>\n",
       "      <td>...</td>\n",
       "    </tr>\n",
       "    <tr>\n",
       "      <th>9995</th>\n",
       "      <td>0.000000</td>\n",
       "      <td>0.000000</td>\n",
       "      <td>5.9976</td>\n",
       "    </tr>\n",
       "    <tr>\n",
       "      <th>9996</th>\n",
       "      <td>0.000000</td>\n",
       "      <td>0.000000</td>\n",
       "      <td>5.9982</td>\n",
       "    </tr>\n",
       "    <tr>\n",
       "      <th>9997</th>\n",
       "      <td>0.000000</td>\n",
       "      <td>0.000000</td>\n",
       "      <td>5.9988</td>\n",
       "    </tr>\n",
       "    <tr>\n",
       "      <th>9998</th>\n",
       "      <td>0.000000</td>\n",
       "      <td>0.000000</td>\n",
       "      <td>5.9994</td>\n",
       "    </tr>\n",
       "    <tr>\n",
       "      <th>9999</th>\n",
       "      <td>0.000000</td>\n",
       "      <td>0.000000</td>\n",
       "      <td>6.0000</td>\n",
       "    </tr>\n",
       "  </tbody>\n",
       "</table>\n",
       "<p>360000 rows × 3 columns</p>\n",
       "</div>"
      ],
      "text/plain": [
       "         p2/p1     p3/p2   times\n",
       "0     1.333927  1.096771  0.0000\n",
       "1     1.333917  1.096770  0.0006\n",
       "2     1.333927  1.096771  0.0012\n",
       "3     1.333917  1.096770  0.0018\n",
       "4     1.333927  1.096771  0.0024\n",
       "...        ...       ...     ...\n",
       "9995  0.000000  0.000000  5.9976\n",
       "9996  0.000000  0.000000  5.9982\n",
       "9997  0.000000  0.000000  5.9988\n",
       "9998  0.000000  0.000000  5.9994\n",
       "9999  0.000000  0.000000  6.0000\n",
       "\n",
       "[360000 rows x 3 columns]"
      ]
     },
     "execution_count": 41,
     "metadata": {},
     "output_type": "execute_result"
    }
   ],
   "source": [
    "data"
   ]
  },
  {
   "cell_type": "code",
   "execution_count": null,
   "metadata": {},
   "outputs": [],
   "source": []
  }
 ],
 "metadata": {
  "kernelspec": {
   "display_name": "Python 3 (ipykernel)",
   "language": "python",
   "name": "python3"
  }
 },
 "nbformat": 4,
 "nbformat_minor": 2
}
